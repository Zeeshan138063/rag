{
  "nbformat": 4,
  "nbformat_minor": 0,
  "metadata": {
    "colab": {
      "provenance": [],
      "collapsed_sections": [
        "Kx1J-D4Xx4sb",
        "8R9SJULJeTCU"
      ],
      "toc_visible": true,
      "mount_file_id": "1AzTMYbkl7gZrlZvXJgu5abc3W8Hdelyv",
      "authorship_tag": "ABX9TyNbfQewJ/oDJmiojH10PqBO",
      "include_colab_link": true
    },
    "kernelspec": {
      "name": "python3",
      "display_name": "Python 3"
    },
    "language_info": {
      "name": "python"
    }
  },
  "cells": [
    {
      "cell_type": "markdown",
      "metadata": {
        "id": "view-in-github",
        "colab_type": "text"
      },
      "source": [
        "<a href=\"https://colab.research.google.com/github/Zeeshan138063/rag/blob/main/RAG.ipynb\" target=\"_parent\"><img src=\"https://colab.research.google.com/assets/colab-badge.svg\" alt=\"Open In Colab\"/></a>"
      ]
    },
    {
      "cell_type": "markdown",
      "source": [
        "\n",
        "# RAG\n",
        "RAG (Retrieval-Augmented Generation) pipelines tackle AI hallucinations by integrating real-time information retrieval with text generation. This ensures that models produce more accurate, context-grounded responses, reducing the chances of misleading or incorrect outputs. A powerful step forward in building reliable AI!\n",
        "\n",
        "[More on RAG](https://www.linkedin.com/pulse/rag-retrieval-augmented-generation-pipelines-muhammad-zeeshan-oodvf/?trackingId=pXByMvHLQDW%2Fw11KVFg8LQ%3D%3D)\n",
        "\n",
        "\n",
        "\n",
        "1.   Ingestion\n",
        "2.   Retrieval\n",
        "3.   Synthesis\n",
        "\n",
        "\n"
      ],
      "metadata": {
        "id": "o0FxhAllEP8Q"
      }
    },
    {
      "cell_type": "markdown",
      "source": [
        "# LangChain\n",
        "***LangChain*** is a framework for developing applications powered by large language models (LLMs).\n",
        "by providing utilities for working with text, embeddings, memory, and more."
      ],
      "metadata": {
        "id": "Kx1J-D4Xx4sb"
      }
    },
    {
      "cell_type": "code",
      "source": [
        "!pip install langchain langchain-community"
      ],
      "metadata": {
        "collapsed": true,
        "id": "YPPw3kwZHdZt"
      },
      "execution_count": null,
      "outputs": []
    },
    {
      "cell_type": "markdown",
      "source": [
        "# Document loaders [#](https://python.langchain.com/v0.2/docs/integrations/document_loaders/):\n",
        "\n",
        "---\n",
        "\n",
        "Loaders refer to components that are used to load or ingest data from various sources such as files, databases, APIs, or even web pages, and converting that data into a format that can be processed by LangChain.\n",
        "\n",
        "DocumentLoaders load data into the standard LangChain Document format.\n",
        "\n",
        "*Each DocumentLoader has its own specific parameters, but they can all be invoked in the same way with the ***.load*** method.*\n",
        "\n",
        "## Types of Loaders:\n",
        "\n",
        "\n",
        "*   **File Loaders:** These load data from files like text files, PDFs, CSVs, JSON, etc.\n",
        "\n",
        "*   **Database Loaders:** These load data from databases, converting rows or documents into a format that can be used by the language model.\n",
        "\n",
        "* **Web Loaders:** These scrape or fetch content from web pages, transforming the retrieved text into a structured format.\n",
        "\n",
        "* **API Loaders:** These fetch data from APIs and convert the responses into a usable format for further processing.\n",
        "\n",
        "* **Customization:**\n",
        " LangChain allows you to create custom loaders if your data source doesn’t fit the pre-existing loaders. This flexibility ensures you can integrate almost any data source into your language model application.\n",
        "\n",
        "\n",
        "###  Preprocessing:\n",
        "Loader performs necessary preprocessing steps such as tokenization, normalization and format conversiotn to ensure data is in the optimal state for model consumption\n",
        "\n",
        " ### Integration:\n",
        " Once the data is loaded, it can be passed through various components of LangChain, such as text splitting, embedding generation, memory integration, or directly into a language model for processing.\n",
        "\n",
        "\n",
        "\n",
        "---\n",
        "\n",
        "#### Example Use Case\n",
        "\n",
        "---\n",
        "\n",
        "\n",
        "If you have a large set of PDF documents and you want to extract the text content for use in a language model application, you could use a PDF loader in LangChain to automate this process. The loader would read each PDF, extract the text, and format it in a way that the language model can use it for tasks like summarization, question answering, or information retrieval.\n",
        "\n",
        "Loaders are a crucial part of building data pipelines in LangChain, ensuring that data is efficiently and correctly ingested into the system for further processing."
      ],
      "metadata": {
        "id": "5X8H_xXU0oOu"
      }
    },
    {
      "cell_type": "markdown",
      "source": [
        "### [PDF Loader](https://python.langchain.com/v0.2/docs/integrations/document_loaders/pypdfloader/)\n",
        "Lets load the PDF"
      ],
      "metadata": {
        "id": "bhe-MpTYJ0eB"
      }
    },
    {
      "cell_type": "code",
      "source": [
        "!pip install pypdf"
      ],
      "metadata": {
        "id": "JIAy51fTKECh"
      },
      "execution_count": null,
      "outputs": []
    },
    {
      "cell_type": "code",
      "source": [
        "from langchain.document_loaders import PyPDFLoader #Initializatio\n",
        "file_path=\"/content/drive/MyDrive/Colab Notebooks/Rich-Dad-Poor-Dad.pdf\"\n",
        "loader = PyPDFLoader(file_path)\n",
        "pages = loader.load()"
      ],
      "metadata": {
        "id": "Bn8xlkO7KtIa"
      },
      "execution_count": null,
      "outputs": []
    },
    {
      "cell_type": "markdown",
      "source": [
        "#### Each page is a Document\n",
        "A Document contains text(page_content) and metadata."
      ],
      "metadata": {
        "id": "U_VnscLmNhez"
      }
    },
    {
      "cell_type": "code",
      "source": [
        "len(pages)"
      ],
      "metadata": {
        "id": "sEdyLwzjN1oo"
      },
      "execution_count": null,
      "outputs": []
    },
    {
      "cell_type": "code",
      "source": [
        "page = pages[224]"
      ],
      "metadata": {
        "id": "1OtsVqAxN-Cq"
      },
      "execution_count": null,
      "outputs": []
    },
    {
      "cell_type": "code",
      "source": [
        "print(page)"
      ],
      "metadata": {
        "id": "ElEw4kvjOHPt"
      },
      "execution_count": null,
      "outputs": []
    },
    {
      "cell_type": "code",
      "source": [
        "dir(page)"
      ],
      "metadata": {
        "id": "ccARxQ0bPUkY"
      },
      "execution_count": null,
      "outputs": []
    },
    {
      "cell_type": "code",
      "source": [
        "page.metadata"
      ],
      "metadata": {
        "id": "S9RMojHlPclZ"
      },
      "execution_count": null,
      "outputs": []
    },
    {
      "cell_type": "code",
      "source": [
        "page.page_content[0:10]"
      ],
      "metadata": {
        "id": "hFgL5mJDPhVV"
      },
      "execution_count": null,
      "outputs": []
    },
    {
      "cell_type": "code",
      "source": [
        "page.json()"
      ],
      "metadata": {
        "id": "10jRbKG2P_Mz"
      },
      "execution_count": null,
      "outputs": []
    },
    {
      "cell_type": "markdown",
      "source": [
        "We can compare 2 pages."
      ],
      "metadata": {
        "id": "QCVB6v0TQTCQ"
      }
    },
    {
      "cell_type": "code",
      "source": [
        "pages[1]==pages[-1]"
      ],
      "metadata": {
        "id": "PehaAvCSQK-X"
      },
      "execution_count": null,
      "outputs": []
    },
    {
      "cell_type": "markdown",
      "source": [
        "While loading with\n",
        "\n",
        "```\n",
        " extract_images=True\n",
        "```\n",
        "Then I had to install following dependencies as well.\n"
      ],
      "metadata": {
        "id": "6O9Zq8bwHlme"
      }
    },
    {
      "cell_type": "code",
      "source": [
        "!pip install onnxruntime-gpu\n",
        "!pip install rapidocr-onnxruntime"
      ],
      "metadata": {
        "id": "OpNCEUOrHiSO"
      },
      "execution_count": null,
      "outputs": []
    },
    {
      "cell_type": "code",
      "source": [
        "docs = []\n",
        "from langchain_community.document_loaders import PyPDFLoader\n",
        "loader = PyPDFLoader(\"/content/drive/MyDrive/Colab Notebooks/Rich-Dad-Poor-Dad.pdf\", extract_images=True)\n",
        "# docs_lazy = loader.lazy_load()\n",
        "docs = await loader.aload()\n",
        "\n",
        "for doc in docs:\n",
        "    print(doc.page_content)\n",
        "    print(doc.metadata)\n",
        "    docs.append(doc)"
      ],
      "metadata": {
        "id": "Asn4fcrAHf5H"
      },
      "execution_count": null,
      "outputs": []
    },
    {
      "cell_type": "markdown",
      "source": [
        "[Other Available Document Leaders ](https://python.langchain.com/v0.2/docs/integrations/document_loaders/#pdfs)\n",
        "\n",
        "\n",
        "1.  [PyPDF](https://python.langchain.com/v0.2/docs/integrations/document_loaders/pypdfloader)\n",
        " document loader  to load and parse PDFs\n",
        " > Supports PDFs\n",
        "\n",
        "2.   [Unstructured](https://python.langchain.com/v0.2/docs/integrations/document_loaders/unstructured_file)\n",
        " document loader to load files of many types.\n",
        " > Unstructured supports loading of text files, powerpoints, html, pdfs, images, and more\n",
        "3.   [Amazon Textract](https://python.langchain.com/v0.2/docs/integrations/document_loaders/amazon_textract/)\n",
        "Amazon Textract is a machine learning (ML) service that automatically extracts text, handwriting, and data from scanned documents.\n",
        "It goes beyond simple optical character recognition (OCR) to identify, understand, and extract data from forms and tables. Today, many companies manually extract data from scanned documents such as PDFs, images, tables, and forms, or through simple OCR software that requires manual configuration (which often must be updated when the form changes). To overcome these manual and expensive processes, Textract uses ML to read and process any type of document, accurately extracting text, handwriting, tables, and other data with no manual effort.\n",
        "> Textract supports PDF, TIFF, PNG and JPEG format.\n",
        "4.   [MathPix](https://python.langchain.com/v0.2/docs/integrations/document_loaders/mathpix/)\n",
        "Uses MathPix to laod PDFs\n",
        ">   Supports PDFs\n",
        "\n",
        "5.     [PDFPlumber](https://python.langchain.com/v0.2/docs/integrations/document_loaders/pdfplumber/) Like PyMuPDF, the output Documents contain detailed ***metadata about the PDF and its pages***, and returns one document per page.\n",
        ">   Supports PDFs\n",
        "6.   [PyPDFDirectry](https://python.langchain.com/v0.2/docs/integrations/document_loaders/pypdfdirectory)  loads all PDF files from a specific directory.\n",
        ">   Supports PDFs\n",
        "7.   [PyPDFium2](https://python.langchain.com/v0.2/docs/integrations/document_loaders/pypdfium2/)  Load PDF files using PyPDFium2.\n",
        ">   Supports PDFs\n",
        "8.    [UnstructuredPDFLoader](https://python.langchain.com/v0.2/docs/integrations/document_loaders/unstructured_pdfloader/)  Under the hood, Unstructured creates different \"elements\" for different chunks of text. By default we combine those together, but you can easily keep that separation by specifying mode=\"elements\"\n",
        ">   Supports PDFs\n",
        "9.   [PyMuPDF](https://python.langchain.com/v0.2/docs/integrations/document_loaders/pymupdf/PyMuPDF) is optimized for ***speed, and contains detailed metadata about the PDF and its pages.***   It returns one document per page.\n",
        "\n",
        "  >   Supports PDFs\n",
        "\n",
        "10.  [PDFMiner](https://python.langchain.com/v0.2/docs/integrations/document_loaders/pdfminer/)   Load PDF files using PDFMiner. Using PDFMiner to generate HTML text\n",
        ">   Supports PDFs\n",
        "\n",
        "\n",
        "all other PDF loaders can also be used to fetch remote PDFs\n"
      ],
      "metadata": {
        "id": "OlkfXnzrJ26k"
      }
    },
    {
      "cell_type": "markdown",
      "source": [
        "Below are some useful examples by using the above mentioned Loaders"
      ],
      "metadata": {
        "id": "GpgxZDD4iIkS"
      }
    },
    {
      "cell_type": "code",
      "source": [
        "!pip install pdfplumber"
      ],
      "metadata": {
        "id": "ZVKb_mlJS5T9"
      },
      "execution_count": null,
      "outputs": []
    },
    {
      "cell_type": "code",
      "source": [
        "from langchain_community.document_loaders import PDFPlumberLoader\n",
        "\n",
        "loader = PDFPlumberLoader(\"/content/drive/MyDrive/Colab Notebooks/Rich-Dad-Poor-Dad.pdf\")\n",
        "docs = loader.load()\n",
        "docs[0]"
      ],
      "metadata": {
        "id": "DU5hlB7aSocF"
      },
      "execution_count": null,
      "outputs": []
    },
    {
      "cell_type": "code",
      "source": [
        "docs[4]"
      ],
      "metadata": {
        "id": "bO4d08V5ViwW",
        "colab": {
          "base_uri": "https://localhost:8080/"
        },
        "outputId": "36d932e0-9e68-4e5e-eda5-b5c3356ae15a"
      },
      "execution_count": 10,
      "outputs": [
        {
          "output_type": "execute_result",
          "data": {
            "text/plain": [
              "Document(metadata={'source': '/content/drive/MyDrive/Colab Notebooks/Rich-Dad-Poor-Dad.pdf', 'file_path': '/content/drive/MyDrive/Colab Notebooks/Rich-Dad-Poor-Dad.pdf', 'page': 4, 'total_pages': 241, 'format': 'PDF 1.4', 'title': '', 'author': '', 'subject': '', 'keywords': '', 'creator': 'Adobe InDesign CS6 (Macintosh)', 'producer': 'Adobe PDF Library 10.0.1', 'creationDate': \"D:20140328154719-07'00'\", 'modDate': \"D:20140328154734-07'00'\", 'trapped': ''}, page_content='If you purchase this book without a cover, or purchase a PDF, jpg, or tiff copy of this book, \\nit is likely stolen property or a counterfeit. In that case, neither the authors, the publisher, \\nnor any of their employees or agents has received any payment for the copy. Furthermore, \\ncounterfeiting is a known avenue of financial support for organized crime and terrorist \\ngroups. We urge you to please not purchase any such copy and to report any instance of \\nsomeone selling such copies to Plata Publishing LLC.\\nThis publication is designed to provide competent and reliable information regarding the \\nsubject matter covered. However, it is sold with the understanding that the author and \\npublisher are not engaged in rendering legal, financial, or other professional advice. Laws \\nand practices often vary from state to state and country to country and if legal or other \\nexpert assistance is required, the services of a professional should be sought. The author and \\npublisher specifically disclaim any liability that is incurred from the use or application of  \\nthe contents of this book.\\nCopyright © 2011 by CASHFLOW Technologies, Inc. All rights reserved. Except as \\npermitted under the U.S. Copyright Act of 1976, no part of this publication may be \\nreproduced, distributed, or transmitted in any form or by any means or stored in a  \\ndatabase or retrieval system, without the prior written permission of the publisher.\\nPublished by Plata Publishing, LLC\\t\\n\\t\\nCASHFLOW, Rich Dad, Rich Dad Advisors, ESBI, and are registered trademarks of \\nCASHFLOW Technologies, Inc.\\n\\t\\n        \\n\\t\\n\\t\\n             \\t \\t\\nare registered trademarks of \\n\\t\\n\\t\\n\\t\\n\\t\\nCASHFLOW Technologies, Inc.\\nPlata Publishing, LLC \\n4330 N. Civic Center Plaza \\nSuite 100 \\nScottsdale, AZ  85251 \\n(480) 998-6971\\nVisit our websites: PlataPublishing.com and RichDad.com \\t\\nPrinted in the United States of America\\n \\nFirst Edition: 1997\\nFirst Plata Publishing Edition: March 2011\\n032014\\nISBN: 978-1-61268-000-2 \\nCover photo credit: Seymour & Brody Studio\\nE\\nS\\nB\\nI\\n')"
            ]
          },
          "metadata": {},
          "execution_count": 10
        }
      ]
    },
    {
      "cell_type": "code",
      "source": [
        "!pip install unstructured\n",
        "!pip install pillow-heif\n",
        "!pip install pi-heif # install the correct package\n",
        "!pip install unstructured[local-inference]\n"
      ],
      "metadata": {
        "id": "lnmjzk7lZo83"
      },
      "execution_count": null,
      "outputs": []
    },
    {
      "cell_type": "code",
      "source": [
        "from langchain_community.document_loaders import UnstructuredPDFLoader\n",
        "file_path = \"/content/drive/MyDrive/Colab Notebooks/Rich-Dad-Poor-Dad.pdf\"\n",
        "loader = UnstructuredPDFLoader(file_path, mode=\"elements\")\n",
        "data = loader.load()\n",
        "data[0]\n"
      ],
      "metadata": {
        "id": "ef1yOrj2ZRWw"
      },
      "execution_count": null,
      "outputs": []
    },
    {
      "cell_type": "code",
      "source": [
        "!pip install onnxruntime-gpu\n",
        "!pip install rapidocr-onnxruntime"
      ],
      "metadata": {
        "id": "wfT5CVCreTCU"
      },
      "execution_count": null,
      "outputs": []
    },
    {
      "cell_type": "code",
      "source": [
        "# from langchain.document_loaders import PyPDFLoader\n",
        "# loader = PyPDFLoader(\"/content/drive/MyDrive/Colab Notebooks/Rich-Dad-Poor-Dad.pdf\")\n",
        "# pages = loader.load()\n",
        "docs = []\n",
        "from langchain_community.document_loaders import PyPDFLoader\n",
        "loader = PyPDFLoader(\"/content/drive/MyDrive/Colab Notebooks/Rich-Dad-Poor-Dad.pdf\", extract_images=True)\n",
        "# docs_lazy = loader.lazy_load()\n",
        "docs = await loader.aload()\n",
        "\n",
        "for doc in docs:\n",
        "    print(doc.page_content)\n",
        "    print(doc.metadata)\n",
        "    docs.append(doc)"
      ],
      "metadata": {
        "id": "UvrE15YZeTCU"
      },
      "execution_count": null,
      "outputs": []
    },
    {
      "cell_type": "code",
      "source": [
        "!pip install -qU langchain-community pymupdf"
      ],
      "metadata": {
        "id": "kRIq4cCGb0P6"
      },
      "execution_count": null,
      "outputs": []
    },
    {
      "cell_type": "code",
      "source": [
        "from langchain_community.document_loaders import PyMuPDFLoader\n",
        "\n",
        "loader = PyMuPDFLoader(file_path=file_path)\n",
        "docs = loader.load()\n",
        "docs[0]"
      ],
      "metadata": {
        "colab": {
          "base_uri": "https://localhost:8080/"
        },
        "id": "rLBlv2Veb3T3",
        "outputId": "fa81e4fa-61de-4576-db2d-05aed6cb1e9d"
      },
      "execution_count": null,
      "outputs": [
        {
          "output_type": "execute_result",
          "data": {
            "text/plain": [
              "Document(metadata={'source': '/content/drive/MyDrive/Colab Notebooks/Rich-Dad-Poor-Dad.pdf', 'file_path': '/content/drive/MyDrive/Colab Notebooks/Rich-Dad-Poor-Dad.pdf', 'page': 0, 'total_pages': 241, 'format': 'PDF 1.4', 'title': '', 'author': '', 'subject': '', 'keywords': '', 'creator': 'Adobe InDesign CS6 (Macintosh)', 'producer': 'Adobe PDF Library 10.0.1', 'creationDate': \"D:20140328154719-07'00'\", 'modDate': \"D:20140328154734-07'00'\", 'trapped': ''}, page_content='Robert T. Kiyosaki\\nWhat The Rich Teach Their Kids About Money – \\nThat The Poor And Middle Class Do Not!\\n')"
            ]
          },
          "metadata": {},
          "execution_count": 6
        }
      ]
    },
    {
      "cell_type": "code",
      "source": [
        "docs[4]"
      ],
      "metadata": {
        "colab": {
          "base_uri": "https://localhost:8080/"
        },
        "id": "rQB29w_2c652",
        "outputId": "57f809ea-8910-435b-a7ac-13a6b42f2045"
      },
      "execution_count": 9,
      "outputs": [
        {
          "output_type": "execute_result",
          "data": {
            "text/plain": [
              "Document(metadata={'source': '/content/drive/MyDrive/Colab Notebooks/Rich-Dad-Poor-Dad.pdf', 'file_path': '/content/drive/MyDrive/Colab Notebooks/Rich-Dad-Poor-Dad.pdf', 'page': 4, 'total_pages': 241, 'format': 'PDF 1.4', 'title': '', 'author': '', 'subject': '', 'keywords': '', 'creator': 'Adobe InDesign CS6 (Macintosh)', 'producer': 'Adobe PDF Library 10.0.1', 'creationDate': \"D:20140328154719-07'00'\", 'modDate': \"D:20140328154734-07'00'\", 'trapped': ''}, page_content='If you purchase this book without a cover, or purchase a PDF, jpg, or tiff copy of this book, \\nit is likely stolen property or a counterfeit. In that case, neither the authors, the publisher, \\nnor any of their employees or agents has received any payment for the copy. Furthermore, \\ncounterfeiting is a known avenue of financial support for organized crime and terrorist \\ngroups. We urge you to please not purchase any such copy and to report any instance of \\nsomeone selling such copies to Plata Publishing LLC.\\nThis publication is designed to provide competent and reliable information regarding the \\nsubject matter covered. However, it is sold with the understanding that the author and \\npublisher are not engaged in rendering legal, financial, or other professional advice. Laws \\nand practices often vary from state to state and country to country and if legal or other \\nexpert assistance is required, the services of a professional should be sought. The author and \\npublisher specifically disclaim any liability that is incurred from the use or application of  \\nthe contents of this book.\\nCopyright © 2011 by CASHFLOW Technologies, Inc. All rights reserved. Except as \\npermitted under the U.S. Copyright Act of 1976, no part of this publication may be \\nreproduced, distributed, or transmitted in any form or by any means or stored in a  \\ndatabase or retrieval system, without the prior written permission of the publisher.\\nPublished by Plata Publishing, LLC\\t\\n\\t\\nCASHFLOW, Rich Dad, Rich Dad Advisors, ESBI, and are registered trademarks of \\nCASHFLOW Technologies, Inc.\\n\\t\\n        \\n\\t\\n\\t\\n             \\t \\t\\nare registered trademarks of \\n\\t\\n\\t\\n\\t\\n\\t\\nCASHFLOW Technologies, Inc.\\nPlata Publishing, LLC \\n4330 N. Civic Center Plaza \\nSuite 100 \\nScottsdale, AZ  85251 \\n(480) 998-6971\\nVisit our websites: PlataPublishing.com and RichDad.com \\t\\nPrinted in the United States of America\\n \\nFirst Edition: 1997\\nFirst Plata Publishing Edition: March 2011\\n032014\\nISBN: 978-1-61268-000-2 \\nCover photo credit: Seymour & Brody Studio\\nE\\nS\\nB\\nI\\n')"
            ]
          },
          "metadata": {},
          "execution_count": 9
        }
      ]
    },
    {
      "cell_type": "markdown",
      "source": [
        "### Webpages\n",
        "Lets load the Webpages"
      ],
      "metadata": {
        "id": "XNgKDSuHichx"
      }
    },
    {
      "cell_type": "markdown",
      "source": [
        "[Available Webpage Leaders](https://python.langchain.com/v0.2/docs/integrations/document_loaders/#webpages)\n",
        "\n",
        "\n",
        "1.  [PyPDF](https://python.langchain.com/v0.2/docs/integrations/document_loaders/pypdfloader)\n",
        " document loader  to load and parse PDFs\n",
        " > Supports PDFs\n",
        "\n",
        "2.   [Unstructured](https://python.langchain.com/v0.2/docs/integrations/document_loaders/unstructured_file)\n",
        " document loader to load files of many types.\n",
        " > Unstructured supports loading of text files, powerpoints, html, pdfs, images, and more\n",
        "3.   [Amazon Textract](https://python.langchain.com/v0.2/docs/integrations/document_loaders/amazon_textract/)\n",
        "Amazon Textract is a machine learning (ML) service that automatically"
      ],
      "metadata": {
        "id": "8R9SJULJeTCU"
      }
    },
    {
      "cell_type": "code",
      "source": [
        "len(pages)"
      ],
      "metadata": {
        "id": "k08YTwyGeTCU"
      },
      "execution_count": null,
      "outputs": []
    },
    {
      "cell_type": "code",
      "source": [
        "page = pages[224]"
      ],
      "metadata": {
        "id": "QnnvPHffeTCU"
      },
      "execution_count": null,
      "outputs": []
    },
    {
      "cell_type": "code",
      "source": [
        "print(page)"
      ],
      "metadata": {
        "id": "SbG4XSc6eTCU"
      },
      "execution_count": null,
      "outputs": []
    },
    {
      "cell_type": "code",
      "source": [
        "dir(page)"
      ],
      "metadata": {
        "id": "Y9HaSS8ueTCV"
      },
      "execution_count": null,
      "outputs": []
    },
    {
      "cell_type": "code",
      "source": [
        "page.metadata"
      ],
      "metadata": {
        "id": "vPKz5BjneTCV"
      },
      "execution_count": null,
      "outputs": []
    },
    {
      "cell_type": "code",
      "source": [
        "page.page_content[0:10]"
      ],
      "metadata": {
        "id": "zDeJhrEKeTCV"
      },
      "execution_count": null,
      "outputs": []
    },
    {
      "cell_type": "code",
      "source": [
        "page.json()"
      ],
      "metadata": {
        "id": "iIx547IOeTCV"
      },
      "execution_count": null,
      "outputs": []
    }
  ]
}