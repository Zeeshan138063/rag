{
  "nbformat": 4,
  "nbformat_minor": 0,
  "metadata": {
    "colab": {
      "provenance": [],
      "mount_file_id": "1AzTMYbkl7gZrlZvXJgu5abc3W8Hdelyv",
      "authorship_tag": "ABX9TyPfUD8vMfF3U8gx3R+h7Sl6",
      "include_colab_link": true
    },
    "kernelspec": {
      "name": "python3",
      "display_name": "Python 3"
    },
    "language_info": {
      "name": "python"
    }
  },
  "cells": [
    {
      "cell_type": "markdown",
      "metadata": {
        "id": "view-in-github",
        "colab_type": "text"
      },
      "source": [
        "<a href=\"https://colab.research.google.com/github/Zeeshan138063/rag/blob/main/Copy_of_RAG.ipynb\" target=\"_parent\"><img src=\"https://colab.research.google.com/assets/colab-badge.svg\" alt=\"Open In Colab\"/></a>"
      ]
    },
    {
      "cell_type": "markdown",
      "source": [
        "**Retrieval Augmented Generation **"
      ],
      "metadata": {
        "id": "e9DbaAALHBzT"
      }
    },
    {
      "cell_type": "code",
      "source": [
        "!pip install print\n",
        "print(\"hello world\")"
      ],
      "metadata": {
        "id": "HrGE8qkwDT6e",
        "colab": {
          "base_uri": "https://localhost:8080/"
        },
        "outputId": "10d54ed0-9a4e-46b6-e3ec-4b427a72d9fc"
      },
      "execution_count": null,
      "outputs": [
        {
          "output_type": "stream",
          "name": "stdout",
          "text": [
            "Requirement already satisfied: print in /usr/local/lib/python3.10/dist-packages (1.3.0)\n",
            "hello world\n"
          ]
        }
      ]
    },
    {
      "cell_type": "markdown",
      "source": [
        "\n",
        "# RAG\n",
        "RAG (Retrieval-Augmented Generation) pipelines tackle AI hallucinations by integrating real-time information retrieval with text generation. This ensures that models produce more accurate, context-grounded responses, reducing the chances of misleading or incorrect outputs. A powerful step forward in building reliable AI!\n",
        "\n",
        "[More on RAG](https://www.linkedin.com/pulse/rag-retrieval-augmented-generation-pipelines-muhammad-zeeshan-oodvf/?trackingId=pXByMvHLQDW%2Fw11KVFg8LQ%3D%3D)\n",
        "\n",
        "\n",
        "\n",
        "1.   Ingestion\n",
        "2.   Retrieval\n",
        "3.   Synthesis\n",
        "\n",
        "\n"
      ],
      "metadata": {
        "id": "o0FxhAllEP8Q"
      }
    },
    {
      "cell_type": "markdown",
      "source": [
        "# LangChain\n",
        "***LangChain*** is a framework for developing applications powered by large language models (LLMs).\n",
        "by providing utilities for working with text, embeddings, memory, and more."
      ],
      "metadata": {
        "id": "Kx1J-D4Xx4sb"
      }
    },
    {
      "cell_type": "code",
      "source": [
        "!pip install langchain langchain-community"
      ],
      "metadata": {
        "collapsed": true,
        "id": "YPPw3kwZHdZt"
      },
      "execution_count": null,
      "outputs": []
    },
    {
      "cell_type": "code",
      "source": [
        "!pip install openai"
      ],
      "metadata": {
        "collapsed": true,
        "id": "DSLQXa9dyqH7"
      },
      "execution_count": null,
      "outputs": []
    },
    {
      "cell_type": "code",
      "source": [
        "!pip install python-dotenv"
      ],
      "metadata": {
        "id": "OyUBX0D3yydh"
      },
      "execution_count": null,
      "outputs": []
    },
    {
      "cell_type": "markdown",
      "source": [
        "# Loaders:\n",
        " Loaders refer to components that are used to load or ingest data from various sources such as files, databases, APIs, or even web pages, and converting that data into a format that can be processed by LangChain.\n",
        "\n",
        "\n",
        "\n",
        "# Types of Loaders:\n",
        "\n",
        "*   **File Loaders:** These load data from files like text files, PDFs, CSVs, JSON, etc.\n",
        "\n",
        "*   **Database Loaders:** These load data from databases, converting rows or documents into a format that can be used by the language model.\n",
        "\n",
        "* **Web Loaders:** These scrape or fetch content from web pages, transforming the retrieved text into a structured format.\n",
        "\n",
        "* **API Loaders:** These fetch data from APIs and convert the responses into a usable format for further processing.\n",
        "\n",
        "* **Customization:**\n",
        " LangChain allows you to create custom loaders if your data source doesn’t fit the pre-existing loaders. This flexibility ensures you can integrate almost any data source into your language model application.\n",
        "\n",
        "\n",
        "### **Preprocessing:**\n",
        "Loader performs necessary preprocessing steps such as tokenization, normalization and format conversiotn to ensure data is in the optimal state for model consumption\n",
        "\n",
        " ### **Integration:**\n",
        " Once the data is loaded, it can be passed through various components of LangChain, such as text splitting, embedding generation, memory integration, or directly into a language model for processing.\n",
        "\n",
        "\n",
        "\n",
        "#### Example Use Case\n",
        "If you have a large set of PDF documents and you want to extract the text content for use in a language model application, you could use a PDF loader in LangChain to automate this process. The loader would read each PDF, extract the text, and format it in a way that the language model can use it for tasks like summarization, question answering, or information retrieval.\n",
        "\n",
        "Loaders are a crucial part of building data pipelines in LangChain, ensuring that data is efficiently and correctly ingested into the system for further processing."
      ],
      "metadata": {
        "id": "5X8H_xXU0oOu"
      }
    },
    {
      "cell_type": "markdown",
      "source": [
        "### PDF Loader\n",
        "Lets load the PDF"
      ],
      "metadata": {
        "id": "bhe-MpTYJ0eB"
      }
    },
    {
      "cell_type": "code",
      "source": [
        "!pip install pypdf"
      ],
      "metadata": {
        "id": "JIAy51fTKECh"
      },
      "execution_count": null,
      "outputs": []
    },
    {
      "cell_type": "code",
      "source": [
        "from langchain.document_loaders import PyPDFLoader\n",
        "loader = PyPDFLoader(\"/content/drive/MyDrive/Colab Notebooks/Rich-Dad-Poor-Dad.pdf\")\n",
        "pages = loader.load()"
      ],
      "metadata": {
        "id": "Bn8xlkO7KtIa"
      },
      "execution_count": null,
      "outputs": []
    },
    {
      "cell_type": "markdown",
      "source": [
        "###Each page is a Document\n",
        "A Document contains text(page_content) and metadata."
      ],
      "metadata": {
        "id": "U_VnscLmNhez"
      }
    },
    {
      "cell_type": "code",
      "source": [
        "len(pages)"
      ],
      "metadata": {
        "colab": {
          "base_uri": "https://localhost:8080/"
        },
        "id": "sEdyLwzjN1oo",
        "outputId": "8c298372-48d8-4dc4-803e-44862bb56d6e"
      },
      "execution_count": null,
      "outputs": [
        {
          "output_type": "execute_result",
          "data": {
            "text/plain": [
              "241"
            ]
          },
          "metadata": {},
          "execution_count": 16
        }
      ]
    },
    {
      "cell_type": "code",
      "source": [
        "page = pages[224]"
      ],
      "metadata": {
        "id": "1OtsVqAxN-Cq"
      },
      "execution_count": null,
      "outputs": []
    },
    {
      "cell_type": "code",
      "source": [
        "print(page)"
      ],
      "metadata": {
        "colab": {
          "base_uri": "https://localhost:8080/"
        },
        "id": "ElEw4kvjOHPt",
        "outputId": "93385265-3570-4d9c-8f43-0dbf69ef15d2"
      },
      "execution_count": null,
      "outputs": [
        {
          "output_type": "stream",
          "name": "stdout",
          "text": [
            "page_content='When criticized for making 1,014 mistakes before creating the \n",
            "electric light bulb, Thomas Edison said, “I did not fail 1,014 times.  \n",
            "I successfully found out what did not work 1,014 times.”  \n",
            "In other words, the reason so many people fail to achieve success \n",
            "is because they fail to fail enough times.\n",
            "Looking at the diagram again,\n",
            " \n",
            " \n",
            "one of the reasons so many people cling to job security is because they \n",
            "lack emotional education. They let fear stop them.\n",
            "One of the best things about military school and the Marine \n",
            "Corps is that these organizations spend a lot of time developing \n",
            "young men and women spiritually, emotionally, mentally, and \n",
            "physically. Although it was a tough education, it was a complete \n",
            "education, preparing us to do a nasty job.\n",
            "The reason I created the CASHFLOW  game is because the game \n",
            "educates the whole person. The game is a better teaching tool than \n",
            "reading or lecture, simply because the game involves the body, mind, \n",
            "emotions, and spirit of the player.\n",
            "The game is designed for players to make as many mistakes as \n",
            "possible with play money, and then learn from those mistakes. To me, \n",
            "this is a more humane way to learn about money.Preface\n",
            "SPIRITEMOTIONMINDBODY\n",
            "xxvi' metadata={'source': '/content/drive/MyDrive/Colab Notebooks/Rich-Dad-Poor-Dad.pdf', 'page': 224}\n"
          ]
        }
      ]
    },
    {
      "cell_type": "code",
      "source": [
        "dir(page)"
      ],
      "metadata": {
        "colab": {
          "base_uri": "https://localhost:8080/"
        },
        "id": "ccARxQ0bPUkY",
        "outputId": "2f60a081-d94f-42ff-ef16-88326bc96caa"
      },
      "execution_count": null,
      "outputs": [
        {
          "output_type": "execute_result",
          "data": {
            "text/plain": [
              "['Config',\n",
              " '__abstractmethods__',\n",
              " '__annotations__',\n",
              " '__class__',\n",
              " '__class_vars__',\n",
              " '__config__',\n",
              " '__custom_root_type__',\n",
              " '__delattr__',\n",
              " '__dict__',\n",
              " '__dir__',\n",
              " '__doc__',\n",
              " '__eq__',\n",
              " '__exclude_fields__',\n",
              " '__fields__',\n",
              " '__fields_set__',\n",
              " '__format__',\n",
              " '__ge__',\n",
              " '__get_validators__',\n",
              " '__getattribute__',\n",
              " '__getstate__',\n",
              " '__gt__',\n",
              " '__hash__',\n",
              " '__include_fields__',\n",
              " '__init__',\n",
              " '__init_subclass__',\n",
              " '__iter__',\n",
              " '__json_encoder__',\n",
              " '__le__',\n",
              " '__lt__',\n",
              " '__module__',\n",
              " '__ne__',\n",
              " '__new__',\n",
              " '__post_root_validators__',\n",
              " '__pre_root_validators__',\n",
              " '__pretty__',\n",
              " '__private_attributes__',\n",
              " '__reduce__',\n",
              " '__reduce_ex__',\n",
              " '__repr__',\n",
              " '__repr_args__',\n",
              " '__repr_name__',\n",
              " '__repr_str__',\n",
              " '__rich_repr__',\n",
              " '__schema_cache__',\n",
              " '__setattr__',\n",
              " '__setstate__',\n",
              " '__signature__',\n",
              " '__sizeof__',\n",
              " '__slots__',\n",
              " '__str__',\n",
              " '__subclasshook__',\n",
              " '__try_update_forward_refs__',\n",
              " '__validators__',\n",
              " '_abc_impl',\n",
              " '_calculate_keys',\n",
              " '_copy_and_set_values',\n",
              " '_decompose_class',\n",
              " '_enforce_dict_if_root',\n",
              " '_get_value',\n",
              " '_init_private_attributes',\n",
              " '_iter',\n",
              " 'construct',\n",
              " 'copy',\n",
              " 'dict',\n",
              " 'from_orm',\n",
              " 'get_lc_namespace',\n",
              " 'id',\n",
              " 'is_lc_serializable',\n",
              " 'json',\n",
              " 'lc_attributes',\n",
              " 'lc_id',\n",
              " 'lc_secrets',\n",
              " 'metadata',\n",
              " 'page_content',\n",
              " 'parse_file',\n",
              " 'parse_obj',\n",
              " 'parse_raw',\n",
              " 'schema',\n",
              " 'schema_json',\n",
              " 'to_json',\n",
              " 'to_json_not_implemented',\n",
              " 'type',\n",
              " 'update_forward_refs',\n",
              " 'validate']"
            ]
          },
          "metadata": {},
          "execution_count": 29
        }
      ]
    },
    {
      "cell_type": "code",
      "source": [
        "page.metadata"
      ],
      "metadata": {
        "colab": {
          "base_uri": "https://localhost:8080/"
        },
        "id": "S9RMojHlPclZ",
        "outputId": "e01ccea8-643a-4b31-ad80-dfc5d8a9f466"
      },
      "execution_count": null,
      "outputs": [
        {
          "output_type": "execute_result",
          "data": {
            "text/plain": [
              "{'source': '/content/drive/MyDrive/Colab Notebooks/Rich-Dad-Poor-Dad.pdf',\n",
              " 'page': 224}"
            ]
          },
          "metadata": {},
          "execution_count": 30
        }
      ]
    },
    {
      "cell_type": "code",
      "source": [
        "page.page_content[0:10]"
      ],
      "metadata": {
        "colab": {
          "base_uri": "https://localhost:8080/",
          "height": 35
        },
        "id": "hFgL5mJDPhVV",
        "outputId": "7db4269c-c4ce-4393-b5c8-660b82410e22"
      },
      "execution_count": null,
      "outputs": [
        {
          "output_type": "execute_result",
          "data": {
            "text/plain": [
              "'When criti'"
            ],
            "application/vnd.google.colaboratory.intrinsic+json": {
              "type": "string"
            }
          },
          "metadata": {},
          "execution_count": 43
        }
      ]
    },
    {
      "cell_type": "code",
      "source": [
        "page.json()"
      ],
      "metadata": {
        "id": "10jRbKG2P_Mz"
      },
      "execution_count": null,
      "outputs": []
    },
    {
      "cell_type": "markdown",
      "source": [
        "We can compare 2 pages."
      ],
      "metadata": {
        "id": "QCVB6v0TQTCQ"
      }
    },
    {
      "cell_type": "code",
      "source": [
        "pages[1]==pages[-1]"
      ],
      "metadata": {
        "colab": {
          "base_uri": "https://localhost:8080/"
        },
        "id": "PehaAvCSQK-X",
        "outputId": "291f769c-782d-42e8-9709-b2e941bae1a4"
      },
      "execution_count": null,
      "outputs": [
        {
          "output_type": "execute_result",
          "data": {
            "text/plain": [
              "False"
            ]
          },
          "metadata": {},
          "execution_count": 38
        }
      ]
    }
  ]
}